{
 "cells": [
  {
   "cell_type": "code",
   "execution_count": 1,
   "metadata": {},
   "outputs": [
    {
     "data": {
      "text/html": [
       "<div><div id=eee89ecd-e988-41c4-a488-938739c79598 style=\"display:none; background-color:#9D6CFF; color:white; width:200px; height:30px; padding-left:5px; border-radius:4px; flex-direction:row; justify-content:space-around; align-items:center;\" onmouseover=\"this.style.backgroundColor='#BA9BF8'\" onmouseout=\"this.style.backgroundColor='#9D6CFF'\" onclick=\"window.commands?.execute('create-mitosheet-from-dataframe-output');\">See Full Dataframe in Mito</div> <script> if (window.commands.hasCommand('create-mitosheet-from-dataframe-output')) document.getElementById('eee89ecd-e988-41c4-a488-938739c79598').style.display = 'flex' </script> <table border=\"1\" class=\"dataframe\">\n",
       "  <thead>\n",
       "    <tr style=\"text-align: right;\">\n",
       "      <th></th>\n",
       "      <th>Customer Email</th>\n",
       "    </tr>\n",
       "  </thead>\n",
       "  <tbody>\n",
       "    <tr>\n",
       "      <th>0</th>\n",
       "      <td>someone@gmail.com</td>\n",
       "    </tr>\n",
       "    <tr>\n",
       "      <th>1</th>\n",
       "      <td>someone@hotmail.com</td>\n",
       "    </tr>\n",
       "    <tr>\n",
       "      <th>2</th>\n",
       "      <td>someone@yahoo.com</td>\n",
       "    </tr>\n",
       "  </tbody>\n",
       "</table></div>"
      ],
      "text/plain": [
       "        Customer Email\n",
       "0    someone@gmail.com\n",
       "1  someone@hotmail.com\n",
       "2    someone@yahoo.com"
      ]
     },
     "execution_count": 1,
     "metadata": {},
     "output_type": "execute_result"
    }
   ],
   "source": [
    "import pandas as pd\n",
    "\n",
    "#connect to the data\n",
    "data = pd.read_excel(\"C:\\\\Data\\\\Sample_Emails.xlsx\") #Change path for this\n",
    "\n",
    "data.head(3)"
   ]
  },
  {
   "cell_type": "code",
   "execution_count": 2,
   "metadata": {},
   "outputs": [
    {
     "name": "stdout",
     "output_type": "stream",
     "text": [
      "        Customer Email       type\n",
      "0    someone@gmail.com   Personal\n",
      "1  someone@hotmail.com   Personal\n",
      "2    someone@yahoo.com   Personal\n",
      "3    someone@gmail.com   Personal\n",
      "4     someone@live.com   Personal\n",
      "5     someone@meta.com  Corporate\n",
      "6   someone@icloud.com   Personal\n",
      "7    someone@gmail.com   Personal\n",
      "8  someone@outlook.com   Personal\n",
      "9      someone@xyz.com  Corporate\n"
     ]
    }
   ],
   "source": [
    " #Create a new column called 'type'\n",
    "data['type'] = None\n",
    "\n",
    "# Iterate through each row of the dataframe\n",
    "for i, row in data.iterrows():\n",
    "    email = row['Customer Email']\n",
    "    if '@gmail' in email or 'icloud' in email  or 'outlook' in email or '@yahoo' in email or '@live' in email or '@hotmail' in email:\n",
    "        data.at[i, 'type'] = 'Personal'\n",
    "    else:\n",
    "        data.at[i, 'type'] = 'Corporate'\n",
    "\n",
    "print(data)"
   ]
  },
  {
   "cell_type": "code",
   "execution_count": null,
   "metadata": {},
   "outputs": [],
   "source": [
    "data.to_csv(\"C:\\\\Data\\\\file1.csv\") #Save this to export the Dataset"
   ]
  }
 ],
 "metadata": {
  "kernelspec": {
   "display_name": "base",
   "language": "python",
   "name": "python3"
  },
  "language_info": {
   "codemirror_mode": {
    "name": "ipython",
    "version": 3
   },
   "file_extension": ".py",
   "mimetype": "text/x-python",
   "name": "python",
   "nbconvert_exporter": "python",
   "pygments_lexer": "ipython3",
   "version": "3.9.7"
  },
  "orig_nbformat": 4,
  "vscode": {
   "interpreter": {
    "hash": "9496dc8e3f13c7c206a9924eeaec40ab1ccb737c9eb9af32cafb4522e4755a03"
   }
  }
 },
 "nbformat": 4,
 "nbformat_minor": 2
}
